{
 "cells": [
  {
   "cell_type": "code",
   "execution_count": null,
   "id": "3809ef25",
   "metadata": {},
   "outputs": [],
   "source": [
    "#Resultados mais relevantes\n",
    "#População e resultados\n",
    "#Maiores e menores gastos (incluindo senadores que não utilizaram a CEAPS)\n",
    "#Boxplot"
   ]
  },
  {
   "cell_type": "markdown",
   "id": "9a466dad",
   "metadata": {},
   "source": [
    "# Introdução\n",
    "<br>\n",
    "<div style=\"text-align: justify\"> \n",
    "   \n",
    "- A Cota para Exercício da Atividade Parlamentar dos Senadores (CEAPS) é o valor a que tem direito os senadores para realização de atividades relacionadas ao seu mandato. A cota individual por senador é variável de acordo com a distância do estado do senador a Brasília. Esse valor é determinado pela Mesa Diretora do Senado, bem como as regras relativas. A utilização da cota se dá por meio de reembolso: o senador realiza a despesa e é reembolsado pelo Senado Federal. \n",
    "    \n",
    "- Os valores da CEAPS são dinheiro público, portanto de interesse geral, tanto em quantidade quanto em qualidade do gasto. Qualquer cidadão pode acessar todos os gastos dos senadores relacionados à essa cota, inclusive verificando as imagens dos documentos que originaram esses reembolsos. Essa informação é publica no site do Senado e está amparada na Lei de Acesso à Informação. \n",
    "    \n",
    "- A CEAPS é, dentro das regras estabelecidas, de uso discricionário do parlamentar. Ou seja, não existe necessidade de realização de pregão ou concorrência pública para contratação dos produtos e serviços. Isso torna ainda mais necessária a vigilância pública sobre seu uso a fim de detectar eventuais ilícitos e coibir práticas lesivas ao dinheiro do contribuinte. Da mesma forma, o parlamentar pode optar por não usar qualquer valor da cota, custeando as despesas do seu próprio salário. \n",
    "\n",
    "- **É importante destacar que a CEAPS não contempla todos os custos suportados pelos contribuintes gerados pelos senadores e suas atividades**. Não entram nesse montante despesas relevantes como pagamento de funcionários (incluindo efetivos, comissionados e terceirizados), combustível para uso de carro oficial, passagem e hospedagem em viagens oficiais, auxílio-moradia e o próprio salário do senador. Nesse caso, os custos são pelo Senado Federal, este por sua vez também dinheiro do contribuinte brasileiro.\n",
    "\n",
    "#### Categorias da CEAPS\n",
    "Os custos incorridos pelos senadores podem se encaixar em uma das categorias abaixo para que o parlamentar tenha direito ao reembolso.\n",
    "1.\t**Aluguel de imóveis para escritório político**: o chamado escritório político é o local, no estado do parlamentar, em que concentram suas atividades parlamentares. Nessa categoria estão os custos com aluguel, água, energia elétrica, telefonia e internet, bem como custos de condomínio e IPTU.\n",
    "2.\t**Aquisição de material de consumo**: demais despesas relacionadas ao escritório político que não se encaixam na anterior, como manutenção de computadores, correios e papel para impressão. As despesas do gabinete do senador em Brasília não entram aqui.\n",
    "3.\t**Passagens aéreas, aquáticas e terrestres nacionais**: compras de passagens para uso pelo senador ou servidor do seu gabinete ou escritório político exclusivamente do estado do senador para Brasília e vice-versa. \n",
    "4.\t**Locomoção, hospedagem, alimentação e combustíveis**: gastos relacionados à locomoção do senador ou servidores, como serviços de táxi e locação de veículos, hospedagem, alimentação, como restaurantes, churrascarias e lanchonetes, e combustíveis. O combustível gasto em carros oficiais não está incluído aqui.\n",
    "5.\t**Contratação de serviços de apoio ao parlamentar**: serviços de consultoria, assessoria e pesquisas, como elaboração de pareceres jurídicos.\n",
    "6.\t**Divulgação da atividade parlamentar**: serviços de comunicação para divulgação da atividade do senador, como campanhas de publicidade, material impresso e inserções em rádio e TV.\n",
    "7.\t**Serviços de segurança privada**: serviços de segurança prestada por empresa terceirizada, como guarda-costas e escolta. Os gastos com a Polícia do Senado Federal não estão inclusos aqui. \n",
    "</div>\n",
    "\n"
   ]
  },
  {
   "cell_type": "code",
   "execution_count": null,
   "id": "d7d9bc75",
   "metadata": {},
   "outputs": [],
   "source": [
    "import calendar\n",
    "import json\n",
    "import matplotlib.pyplot as plt\n",
    "import numpy as np\n",
    "import pandas as pd\n",
    "import plotly.express as px\n",
    "import requests\n",
    "import seaborn as sns\n",
    "import textwrap\n",
    "\n",
    "%matplotlib inline"
   ]
  },
  {
   "cell_type": "markdown",
   "id": "0eb934ee",
   "metadata": {},
   "source": [
    "**Parâmetros importantes para `pd.read_csv`**\n",
    "Ao importar arquivos CSV em português, a atenção a dois parâmetros pode ser importante.\n",
    "- `encoding`: a codificação de arquivo mais comum usada em português é ***utf-8***, no entanto (como nesse caso) isso pode gerar erros na leitura. Nesse caso, é provável que seja utilizada ***latin_1***.\n",
    "- `decimal`: em português, a vírgula é usada como separador decimal. Como o padrão do `pandas` é do inglês (em que a vírgula é separador de milhar), é conveniente especificar esse parâmetro quando o arquivo contém dados do tipo ponto flutuante/*float*.\n"
   ]
  },
  {
   "cell_type": "code",
   "execution_count": null,
   "id": "e269bfae",
   "metadata": {},
   "outputs": [],
   "source": [
    "ceaps = pd.read_csv(\"./despesa_ceaps_2021.csv\", sep=\";\", encoding=\"latin_1\", header=1, decimal=\",\")\n",
    "senadores = pd.read_csv(\"./senadores(2019-2023).csv\", sep=\";\")\n",
    "empresas = pd.read_csv(\"./dados_empresas_ceaps_2021.csv\", encoding=\"utf-8\")\n",
    "populacao = pd.read_csv(\"./estados_populacao.csv\", sep=\";\", thousands=\".\")"
   ]
  },
  {
   "cell_type": "code",
   "execution_count": null,
   "id": "367f2367",
   "metadata": {
    "scrolled": false
   },
   "outputs": [],
   "source": [
    "ceaps.info()"
   ]
  },
  {
   "cell_type": "code",
   "execution_count": null,
   "id": "2b70a208",
   "metadata": {
    "scrolled": true
   },
   "outputs": [],
   "source": [
    "ceaps.head()"
   ]
  },
  {
   "cell_type": "code",
   "execution_count": null,
   "id": "8443ad75",
   "metadata": {},
   "outputs": [],
   "source": [
    "ceaps[\"ANO\"].unique()"
   ]
  },
  {
   "cell_type": "code",
   "execution_count": null,
   "id": "3166627f",
   "metadata": {},
   "outputs": [],
   "source": [
    "ceaps[\"DOCUMENTO\"].value_counts()"
   ]
  },
  {
   "cell_type": "code",
   "execution_count": null,
   "id": "876594a3",
   "metadata": {
    "scrolled": true
   },
   "outputs": [],
   "source": [
    "ceaps[\"COD_DOCUMENTO\"]"
   ]
  },
  {
   "cell_type": "code",
   "execution_count": null,
   "id": "a45add14",
   "metadata": {},
   "outputs": [],
   "source": [
    "len(ceaps[\"COD_DOCUMENTO\"].unique())"
   ]
  },
  {
   "cell_type": "markdown",
   "id": "4d8571a2",
   "metadata": {},
   "source": [
    "**Removendo colubas**\n",
    "\n",
    "Dado que nem todas as colunas são necessárias, algumas serão removidas por otimização.\n",
    "\n",
    "- `ANO`: todas as linhas têm o mesmo valor, 2021.\n",
    "- `DOCUMENTO`: número atribuido pelo fornecedor, como número do voo ou da nota fiscal.*\n",
    "- `COD_DOCUMENTO`: número de controle interno do Senado.*\n",
    "\n",
    "*Deduzido, uma vez que o Senado Federak não respondeu aos questionamentos sobre o significado dessas colunas."
   ]
  },
  {
   "cell_type": "code",
   "execution_count": null,
   "id": "09603ed3",
   "metadata": {},
   "outputs": [],
   "source": [
    "ceaps.drop(columns=[\"ANO\", \"DOCUMENTO\", \"COD_DOCUMENTO\"], inplace=True)"
   ]
  },
  {
   "cell_type": "code",
   "execution_count": null,
   "id": "8284ea22",
   "metadata": {},
   "outputs": [],
   "source": [
    "ceaps.head()"
   ]
  },
  {
   "cell_type": "code",
   "execution_count": null,
   "id": "3273344d",
   "metadata": {},
   "outputs": [],
   "source": [
    "ceaps[\"TIPO_DESPESA\"].unique()"
   ]
  },
  {
   "cell_type": "code",
   "execution_count": null,
   "id": "a841eb60",
   "metadata": {},
   "outputs": [],
   "source": [
    "#Cannot convert string to float directly because of decimal separator\n",
    "#Including decimal parameter in read_csv solves the problem\n",
    "\n",
    "#ceaps[\"VALOR_REEMBOLSADO\"] = ceaps[\"VALOR_REEMBOLSADO\"].str.replace(\",\",\".\")\n",
    "ceaps[\"VALOR_REEMBOLSADO\"] = ceaps[\"VALOR_REEMBOLSADO\"].astype(\"float\")"
   ]
  },
  {
   "cell_type": "code",
   "execution_count": null,
   "id": "67704fbc",
   "metadata": {},
   "outputs": [],
   "source": [
    "ceaps[\"VALOR_REEMBOLSADO\"]"
   ]
  },
  {
   "cell_type": "code",
   "execution_count": null,
   "id": "3691ab8d",
   "metadata": {},
   "outputs": [],
   "source": [
    "ceaps[\"CNPJ_CPF\"]"
   ]
  },
  {
   "cell_type": "markdown",
   "id": "e39c6505",
   "metadata": {},
   "source": [
    "**Linhas em que o ano da coluna `DATA` não é 2021**\n",
    "\n",
    "Para verificar quantas linhas têm o ano diferente de 2021 na coluna `DATA`, foi utilizado *list comprehension*. Em função da performance, tratar as datas como *strings* é uma opção melhor do que transformá-las para *datetime* e só depois extrair o ano. Isso pode ser verificado abaixo."
   ]
  },
  {
   "cell_type": "code",
   "execution_count": null,
   "id": "501d3793",
   "metadata": {},
   "outputs": [],
   "source": [
    "#%timeit -n 1000 [x for x in ceaps['DATA'] if '2021' not in x] "
   ]
  },
  {
   "cell_type": "code",
   "execution_count": null,
   "id": "9ef540e2",
   "metadata": {},
   "outputs": [],
   "source": [
    "#%timeit -n 1000 [x for x in ceaps[\"DATA\"] if x.year != 2021]"
   ]
  },
  {
   "cell_type": "code",
   "execution_count": null,
   "id": "607c0a81",
   "metadata": {},
   "outputs": [],
   "source": [
    "anos_errados = [x for x in ceaps[\"DATA\"] if \"2021\" not in x]\n",
    "index_anos_errados = [ceaps.index[ceaps[\"DATA\"]==x][0] for x in anos_errados]"
   ]
  },
  {
   "cell_type": "code",
   "execution_count": null,
   "id": "db25ca31",
   "metadata": {},
   "outputs": [],
   "source": [
    "print(f\"Registros com ano diferente de 2021: {len(anos_errados)}\")\n",
    "print(f\"Total de registros: {len(ceaps['DATA'])}\")\n",
    "\n",
    "print(f\"{round(len(anos_errados)/len(ceaps['DATA'])*100, 2)}% dos registros com ano diferente de 2021\")\n",
    "    \n"
   ]
  },
  {
   "cell_type": "markdown",
   "id": "91966dac",
   "metadata": {},
   "source": [
    "**Uma vez que os índices das observações divergentes foram coletados para uso futuro, a coluna pode ser convertida para o formato *datetime*. Há uma observação cujo ano é 0202, provavelmente um erro de digitação. Isso, porém, impede que `pd.to_datetime` converta toda a coluna e a operação inteira falha. Isso pode ser solucionado utilizando `errors=\"coerce\"`. As linhas que não puderem ser convertidas se tornam um nulo `NaT` (*not a time*).**"
   ]
  },
  {
   "cell_type": "code",
   "execution_count": null,
   "id": "90a08485",
   "metadata": {},
   "outputs": [],
   "source": [
    "ceaps[\"DATA\"] = pd.to_datetime(ceaps[\"DATA\"], format=\"%d/%m/%Y\", errors=\"coerce\")"
   ]
  },
  {
   "cell_type": "markdown",
   "id": "f7ded494",
   "metadata": {},
   "source": [
    "**Ao verificar a existência de valores nulos na coluna DATA, apenas um registro é encontrado (aquele com ano 0202)**"
   ]
  },
  {
   "cell_type": "code",
   "execution_count": null,
   "id": "34ee36be",
   "metadata": {},
   "outputs": [],
   "source": [
    "for x in ceaps[\"DATA\"]:\n",
    "    if pd.isnull(x) is True:\n",
    "        print(x)"
   ]
  },
  {
   "cell_type": "markdown",
   "id": "01d6a64e",
   "metadata": {},
   "source": [
    "**Por se tratar de um sistema de reembolso, espera-se que haja alguma divergência entre o mês do registro e da despesa, uma vez que a despesa é feita antes do reembolso. No entanto, é importante avaliar o grau de divergência, especialmente em relação aos anos. Como pode ser observado, a maioria das despesas é de 2021, o ano fiscal dessa CEAPS. No entanto, há também despesas de 2022, 2019 e mesmo 2010 e 2002. É importante entender a natureza dessa divergência. São aventadas as seguinte hipóteses:**\n",
    "- **Erro humano**: pode haver erro na inserção da data no sistema por parte do senador ou assessor responsável. Isso é especialmente  provável em registros como os mesmos dígitos em sequência distinta ou quando há vários registros com mesma data.\n",
    "- **Fechamento do ano fiscal**: uma despesa que seja realizada durante o ano fiscal de 2020, mas cujo comprovante seja apresentado em 2021 pode ter seu lançamento em 2021, embora a despesa em si seja do ano anterior*;\n",
    "- **Pagamento antecipado**: é possível que o período de prestação do serviço seja em 2021, ou se estenda a 2021, mas a contratação e pagamento tenha ocorrido antes. Nesse caso, possivelmente o valor será lançado na CEAPS seguinte. Isso é mais provável quando a data é próxima ao fechamento do ano fiscal*;\n",
    "- **Nota fiscal emitida posteriormente**: é possível que o serviço tenha sido prestado duante o ano de 2021, mas a nota fiscal só tenha sido emitida posteriormente. Individualmente, isso pode ser comprovado em algumas notas fiscais em que o período de prestação do serviço é discriminado no documento. No entanto, nem todos os comprovantes trazem essa especificação;\n",
    "- **Prática de ilícito**: é possível que essa divergência, ainda, seja um indicativo de ilícito relacionado ao uso CEAPS. Embora seja uma hipótese relativamente remota dada a facilidade de detecção, não pode ser totalmente descartada. Nesse caso, convém que haja uma investigação mais detida.\n",
    "\n",
    "*Não houve resposta do Senado Federal acerca desses questionamentos, não sendo possível, portanto, afirmar com certeza."
   ]
  },
  {
   "cell_type": "code",
   "execution_count": null,
   "id": "b1f95a01",
   "metadata": {},
   "outputs": [],
   "source": [
    "ano_desp = ceaps[\"DATA\"].dt.year\n",
    "mes_desp = ceaps[\"DATA\"].dt.month\n",
    "\n",
    "mes_reemb = ceaps[\"MES\"]"
   ]
  },
  {
   "cell_type": "code",
   "execution_count": null,
   "id": "4c3c2626",
   "metadata": {},
   "outputs": [],
   "source": [
    "compara_ano = np.where(ano_desp == 2021, True, False)\n",
    "cont = 0\n",
    "for x in compara_ano:\n",
    "    if x == False:\n",
    "        cont += 1\n",
    "print(f\"Registros com ano diferente de 2021: {cont}\")"
   ]
  },
  {
   "cell_type": "code",
   "execution_count": null,
   "id": "f2f36584",
   "metadata": {},
   "outputs": [],
   "source": [
    "compara_mes = np.where(mes_desp == mes_reemb, True, False)\n",
    "cont = 0\n",
    "for x in compara_mes:\n",
    "    if x == False:\n",
    "        cont += 1\n",
    "print(f\"Registros com mês/data diferente do mês/reembolso: {cont}\")"
   ]
  },
  {
   "cell_type": "code",
   "execution_count": null,
   "id": "0515affe",
   "metadata": {},
   "outputs": [],
   "source": [
    "ano_desp.value_counts()"
   ]
  },
  {
   "cell_type": "code",
   "execution_count": null,
   "id": "74d61384",
   "metadata": {
    "scrolled": true
   },
   "outputs": [],
   "source": [
    "ceaps[ceaps[\"DATA\"].dt.year == 2020]"
   ]
  },
  {
   "cell_type": "markdown",
   "id": "9714f84e",
   "metadata": {},
   "source": [
    "**Convertendo o mês de número para nome**\n",
    "\n",
    "A coluna `MES` contém os meses em que foram realizados os reembolsos. No *dataframe*, eles estão representados por inteiros. Ter os nomes dos meses é mais conveniente para a visualização e a análise dos dados. Nesse caso, optou-se pelo `map`para fazer a mudança. O módulo `calendar` do Python, combinado com `enumerate` pode ser usado para gerar um dicionário com os números como chaves e os nomes como valores. Eventualmente, o dicionário pode ser gerado com os nomes em inglês. Nesse caso, é preciso configurar o local/*locale*. Isso pode ser feito facilmente utilizando o módulo `locale`. Alternativamente, o dicionário pode ser construído manualmente com a mesma estrutura."
   ]
  },
  {
   "cell_type": "code",
   "execution_count": null,
   "id": "cf1ad244",
   "metadata": {},
   "outputs": [],
   "source": [
    "#import locale\n",
    "#locale.setlocale(locale.LC_ALL, 'pt_BR')\n",
    "#d = dict(enumerate(calendar.month_name))\n",
    "\n",
    "d = {1: 'Janeiro', 2: 'Fevereiro', 3: 'Março', \n",
    "     4: 'Abril', 5: 'Maio', 6: 'Junho', \n",
    "     7: 'Julho', 8: 'Agosto', 9: 'Setembro', \n",
    "     10: 'Outubro', 11: 'Novembro', 12: 'Dezembro'}\n",
    "\n",
    "ceaps[\"MES\"] = ceaps[\"MES\"].map(d)"
   ]
  },
  {
   "cell_type": "code",
   "execution_count": null,
   "id": "286cbdf5",
   "metadata": {
    "scrolled": true
   },
   "outputs": [],
   "source": [
    "ceaps.head()"
   ]
  },
  {
   "cell_type": "markdown",
   "id": "2fcbe418",
   "metadata": {},
   "source": [
    "***Dataframe* senadores**\n",
    "\n",
    "A tabela `senadores`contém todos os senadores que exerceram mandato em 2021. Embora sejam 81 senadores, a tabela contém 91. Isso ocorre pelo fato de alguns serem suplentes, que exerceram o mandato em função de afastamento do titular. Desse modo, qualquer senador, seja titular ou suplente, que tenha utilizado a CEAPS aparece na tabela. Duas informações consideradas importantes não constam na tabela da CEAPS: UF e partido do senador, daí a necessidade dessa segunda tabela.\n",
    "\n",
    "##### Colunas\n",
    "- `SENADOR`: o nome do senador, padronizado segundo o nome da tabela da CEAPS;\n",
    "- `PARTIDO`: o partido do senador conforme o nome no *site* do Senado, pode ser diferente entre titular e suplentes;\n",
    "- `UF`: unidade federativa pela qual o senador exerce o mandato, necessariamente a mesma para titular e suplentes;\n",
    "- `OBS`: observações em relação ao senador, como afastamento do mandato."
   ]
  },
  {
   "cell_type": "code",
   "execution_count": null,
   "id": "6c485593",
   "metadata": {
    "scrolled": true
   },
   "outputs": [],
   "source": [
    "senadores.head()"
   ]
  },
  {
   "cell_type": "code",
   "execution_count": null,
   "id": "d59ce74d",
   "metadata": {},
   "outputs": [],
   "source": [
    "senadores.info()"
   ]
  },
  {
   "cell_type": "markdown",
   "id": "e1953dba",
   "metadata": {},
   "source": [
    "**Considerando o ano de 2022, cinco senadores não aparecem na em 2021. Dois deles são suplentes e assumiram as vagas do titular em 2022 (Alexandre Silveira e Fabio Garcia e três (Jorge Kajuru, Leila Barros e Reguffe) não utilizaram nenhum valor da CEAPS.**"
   ]
  },
  {
   "cell_type": "code",
   "execution_count": null,
   "id": "af082d53",
   "metadata": {},
   "outputs": [],
   "source": [
    "print(\"Senadores atuais que não constam na tabela da CEAPS\")\n",
    "for x in [x for x in senadores[\"SENADOR\"]]:\n",
    "    if x not in [x for x in ceaps[\"SENADOR\"].unique()]:\n",
    "        print(x)"
   ]
  },
  {
   "cell_type": "code",
   "execution_count": null,
   "id": "9cb50996",
   "metadata": {},
   "outputs": [],
   "source": [
    "ceaps = ceaps.merge(senadores[[\"SENADOR\",\"UF\", \"PARTIDO\", \"OBS\"]], on=\"SENADOR\", how=\"left\")"
   ]
  },
  {
   "cell_type": "markdown",
   "id": "498a8070",
   "metadata": {},
   "source": [
    "# AED"
   ]
  },
  {
   "cell_type": "markdown",
   "id": "a72d445d",
   "metadata": {},
   "source": [
    "### Maiores e menores gastos\n",
    "\n",
    "Quando considerados os gastos por senador, observa-se que os maiores gastos tendem a se concentrar em estados do Norte do país. Quanto mais distante o estado de Brasília, maior o valor da cota a que o senador tem direito."
   ]
  },
  {
   "cell_type": "code",
   "execution_count": null,
   "id": "c320c1ac",
   "metadata": {
    "scrolled": false
   },
   "outputs": [],
   "source": [
    "ceaps.groupby([\"SENADOR\", \"UF\"]).sum().sort_values(by=\"VALOR_REEMBOLSADO\",ascending=False).head(10)"
   ]
  },
  {
   "cell_type": "markdown",
   "id": "b59818a1",
   "metadata": {},
   "source": [
    "Por outro lado, o inverso não permite a mesma observação diretamente. Nesse caso é preciso considerar o tempo de mandato que o senador exerceu em 2021. Senadores afastados e suplentes em exercício terão menores valores. Nesse caso, convém considerar cada senador individualmente e as observações relativas a ele."
   ]
  },
  {
   "cell_type": "code",
   "execution_count": null,
   "id": "5c683487",
   "metadata": {},
   "outputs": [],
   "source": [
    "ceaps.groupby([\"SENADOR\", \"UF\", \"OBS\"]).sum().sort_values(by=\"VALOR_REEMBOLSADO\",ascending=False).tail(11)"
   ]
  },
  {
   "cell_type": "markdown",
   "id": "0cc999cc",
   "metadata": {},
   "source": [
    "### Gastos por partido\n",
    "\n",
    "- Considerando a possibilidade de troca de partido por parte dos senadores durante seu mandato, pode haver algumas distorções em função desse fato. \n",
    "- Dessa forma, a fim de estabelecer um critério para atribuir o partido de cada senador, foi considerado o tempo de mandato exercido em 2021. \n",
    "- Assim, **um senador que tenha mudado de partido estará no partido a que esteve filiado por mais tempo em 2021**. Esse dado não consta no *site* do Senado e foi necessário recorrer à imprensa. \n",
    "- É preciso considerar o número de senadores por partido, uma vez que partidos com mais parlamentares tendem a ter gastos maiores.\n",
    "- A cota é de responsabilidade de cada parlamentar, a informação do seu partido tem natureza complementar."
   ]
  },
  {
   "cell_type": "code",
   "execution_count": null,
   "id": "2f2c55c6",
   "metadata": {
    "scrolled": false
   },
   "outputs": [],
   "source": [
    "ceaps.groupby([\"PARTIDO\"]).sum().sort_values(by=\"VALOR_REEMBOLSADO\",ascending=False)"
   ]
  },
  {
   "cell_type": "code",
   "execution_count": null,
   "id": "27d9e0ba",
   "metadata": {
    "scrolled": true
   },
   "outputs": [],
   "source": [
    "senadores[\"PARTIDO\"].value_counts()"
   ]
  },
  {
   "cell_type": "markdown",
   "id": "79e4c846",
   "metadata": {},
   "source": [
    "### Reembolsos a pessoas físicas\n",
    "\n",
    "Um valor significativo (cerca de R$ 1,2 mi) foi destinado a reembolsos a pessoas físicas. Esse é um dado importante a ser considerado, uma vez que a disponibilidade de informações públicas sobre pessoas físicas é menor do que das empresas. É, portanto, um ponto de atenção do ponto de vista da transparência. Nesse sentido, o contribuinte pode  questionar diretamente o parlamentar a respeito, por exemplo, sobre os motivos que levaram à opção por pessoa física e não jurídica, valor pago pelo bem/serviço e relação entre o parlamentar ou seus assessores com o prestador."
   ]
  },
  {
   "cell_type": "code",
   "execution_count": null,
   "id": "02371fc5",
   "metadata": {
    "scrolled": true
   },
   "outputs": [],
   "source": [
    "ceaps[ceaps[\"CNPJ_CPF\"].apply(len)==14][\"VALOR_REEMBOLSADO\"].sum()"
   ]
  },
  {
   "cell_type": "code",
   "execution_count": null,
   "id": "be1d1b99",
   "metadata": {
    "scrolled": true
   },
   "outputs": [],
   "source": [
    "ceaps[ceaps[\"CNPJ_CPF\"].apply(len)==14].groupby([\"SENADOR\", \"FORNECEDOR\"]).sum().sort_values(\"VALOR_REEMBOLSADO\", ascending=False)\n",
    "#ceaps[len(ceaps[\"CNPJ_CPF\"]==14)]"
   ]
  },
  {
   "cell_type": "code",
   "execution_count": null,
   "id": "27d7bc49",
   "metadata": {},
   "outputs": [],
   "source": [
    "ceaps2 = ceaps"
   ]
  },
  {
   "cell_type": "markdown",
   "id": "6c943014",
   "metadata": {},
   "source": [
    "### Principais empresas fornecedoras\n",
    "\n",
    "Embora um valor importante seja destinado a pessoas físicas, as empresas respondem pela maioria dos reembolsos, tanto em número quanto de valores recebidos."
   ]
  },
  {
   "cell_type": "code",
   "execution_count": null,
   "id": "be8004ee",
   "metadata": {
    "scrolled": true
   },
   "outputs": [],
   "source": [
    "ceaps[\"CNPJ_CPF\"].apply(len).value_counts()"
   ]
  },
  {
   "cell_type": "markdown",
   "id": "23ce654f",
   "metadata": {},
   "source": [
    "A principal dificuldade encontrada nesse ponto é a padronização dos nomes dos fornecedores. Uma vez que eles são inseridos manualmente, as diferenças mínimas podem levar a resultados incorretos ao agrupar pelo valor recebido. Isso fica evidente com o CNPJ 16.978.175/0001-08. A empresa em questão é a maior recebedora de valores. No entanto, quando o agrupamento é feito pelo nome, esse valor se divide em diferentes linhas com grafias diferentes. Embora o simples agrupamento pelo CNPJ solucionasse esse problema, esse número por si traz poucas informações sobre a empresa."
   ]
  },
  {
   "cell_type": "code",
   "execution_count": null,
   "id": "774429b2",
   "metadata": {
    "scrolled": false
   },
   "outputs": [],
   "source": [
    "ceaps.groupby([\"CNPJ_CPF\"]).sum().sort_values(by=\"VALOR_REEMBOLSADO\",ascending=False).head(10)"
   ]
  },
  {
   "cell_type": "code",
   "execution_count": null,
   "id": "5d92d976",
   "metadata": {
    "scrolled": false
   },
   "outputs": [],
   "source": [
    "ceaps.groupby([\"CNPJ_CPF\", \"FORNECEDOR\"]).sum().sort_values(by=\"VALOR_REEMBOLSADO\",ascending=False).head(10)"
   ]
  },
  {
   "cell_type": "markdown",
   "id": "af84d31d",
   "metadata": {},
   "source": [
    "Em função disso, havia a necessidade de padronização dos nomes das empresas. Isso poderia ser feito pelo *site* da Receita Federal, responsável pelo registro dos CNPJs. Para isso, as seguintes opções existiam:\n",
    "1. **Realizar uma busca manual de cada CNPJ**: essa opção se torna inviável pelo número de registros. Existem pouco menos de 16.500 CNPJs registrados na tabela. Mesmo quando reduzido aos valores únicos, esse número se aproxima de 2800 CNPJs. \n",
    "2. **Utilizar *web* scraping**: o *site* da Receita Federal permite consultas a qualquer CNPJ, no entanto o uso de *web scraping* se torna essencialmente inviável pelo uso de CAPTCHA.\n",
    "3. **API da Receita Federal**: há uma API que permite consultas de dados pelo número do CNPJ, sua utilização, porém, é paga por consulta realizada. Dado o preço e o volume de consultas, essa opção se torna proibitiva no escopo desse projeto.\n",
    "4. **Utilizar a base completa de CNPJs**: mensalmente, a Receita Federal disponibiliza a base completa do CNPJ. Esse dados podem ser baixados e consultados livremente. O principal obstáculo aqui é o grande volume de dados, uma vez que se trata da base completa, com todos os tipos de informações registradas.\n",
    "5. **Fazer uso de uma API não-oficial**: dada essa ser uma necessidade que existe em outras aplicações, existem diversos projetos de código aberto para lidar com as informações desse tipo. Nesse caso, os dados que são disponibilizados pela Receita Federal, são processados e ficam acessíveis por meio de consultas. A grande vantagem desse método é diminuição da carga de trabalho e processamento, uma vez que são consultados apenas os dados relevantes e necessários para a aplicação.\n",
    "\n",
    "Esse último foi o caminho escolhido para esse projeto. No entanto, em caso de aplicações que exijam um altíssimo grau de atualização e integridade das informações, o melhor caminho talvez seja o uso da API oficial da Receita Federal. Porém, no escopo do projeto, foi considerado que o caminho escolhido é suficientemente confiável para o objetivo de padronização de nomes, bem como de outras informações julgadas relevantes.\n",
    "\n",
    "Foi escolhido o Minha Receita (https://github.com/cuducos/minha-receita) como API a ser utilizada. Esse projeto utiliza os dados públicos da Receita Federal para facilitar a consulta às informações de CNPJs. "
   ]
  },
  {
   "cell_type": "markdown",
   "id": "0128cefb",
   "metadata": {},
   "source": [
    "A API funciona por meio de requisições HTTP do tipo `GET` retornando um JSON com todos os dados do CNPJ consultado. Para o envio das requisições, foi o utilizado o módulo `requests`.\n",
    "\n",
    "Inicialmente, foram escolhidos os campos considerados relevantes para cada empresa, que foram os seguintes:\n",
    "- CNPJ: o número de registro\n",
    "- UF e município\n",
    "- Razão social e nome fantasia: campos a serem usados para identificar cada empresa mais facilmente\n",
    "- Porte: descreve o tamanho da empresa\n",
    "- CNAE: Classificação Nacional de Atividades Econômicas descreve a principal atividade da empresa e pode ser usado para detecção de possíveis ilícitos, como empresas recebendo por serviços estranhos às suas atividades.\n",
    "- Início das atividades: verificação de possíveis ilícitos, como abertura empresas de fachada abertas muito recentemente.\n",
    "\n",
    "Uma vez extraídos os dados, foram colocados em um *DataFrame* e salvos em CSV para uso posterior sem a necessidade de novas consultas."
   ]
  },
  {
   "cell_type": "code",
   "execution_count": null,
   "id": "f7becd80",
   "metadata": {},
   "outputs": [],
   "source": [
    "\"\"\"\n",
    "cnpjs = [x for x in ceaps[\"CNPJ_CPF\"].unique() if len(x)==18]\n",
    "\n",
    "dados_cnpj = [\"cnpj\", \"uf\", \"municipio\", \"razao_social\", \"nome_fantasia\", \n",
    "              \"porte\", \"cnae_fiscal_descricao\", \"data_inicio_atividade\"]\n",
    "\n",
    "empresas = pd.DataFrame(columns=dados_cnpj)\n",
    "\n",
    "cont = 0\n",
    "\n",
    "for x in cnpjs:\n",
    "    request = requests.get(\"https://minhareceita.org/\"+x)\n",
    "    json = request.json()\n",
    "    nova_linha = [json.get(x) for x in dados_cnpj]\n",
    "    empresas.loc[len(empresas)] = nova_linha\n",
    "    cont += 1\n",
    "    if cont%100==0 or cont==len(cnpjs):\n",
    "        print(f\"{cont} CNPJs processados\")\n",
    "        \n",
    "\"\"\""
   ]
  },
  {
   "cell_type": "code",
   "execution_count": null,
   "id": "a398597e",
   "metadata": {},
   "outputs": [],
   "source": [
    "#empresas.to_csv(\"dados_empresas_ceaps_2021.csv\", index=False)"
   ]
  },
  {
   "cell_type": "code",
   "execution_count": null,
   "id": "1a8c440f",
   "metadata": {},
   "outputs": [],
   "source": [
    "ceaps[\"CNPJ_CPF_NUM\"] = ceaps[\"CNPJ_CPF\"]\n",
    "ceaps[\"CNPJ_CPF_NUM\"] = ceaps[\"CNPJ_CPF_NUM\"].str.replace(\"/\",\"\", regex=True)\n",
    "ceaps[\"CNPJ_CPF_NUM\"] = ceaps[\"CNPJ_CPF_NUM\"].str.replace(\"-\",\"\", regex=True)\n",
    "ceaps[\"CNPJ_CPF_NUM\"] = ceaps[\"CNPJ_CPF_NUM\"].str.replace(\".\",\"\", regex=True)"
   ]
  },
  {
   "cell_type": "code",
   "execution_count": null,
   "id": "a534c405",
   "metadata": {},
   "outputs": [],
   "source": [
    "reembolsos = ceaps.groupby(by=\"CNPJ_CPF_NUM\").sum()\n",
    "reembolsos.reset_index(inplace=True)\n",
    "\n",
    "reembolsos[\"CNPJ_CPF_NUM\"] = reembolsos[\"CNPJ_CPF_NUM\"].astype(\"int64\")"
   ]
  },
  {
   "cell_type": "code",
   "execution_count": null,
   "id": "23912e13",
   "metadata": {},
   "outputs": [],
   "source": [
    "#Left join because reembolsos has more rows (they include CPFs)\n",
    "empresas_reembolsos = pd.merge(empresas, reembolsos, left_on=\"cnpj\", right_on=\"CNPJ_CPF_NUM\", how=\"left\")"
   ]
  },
  {
   "cell_type": "code",
   "execution_count": null,
   "id": "3a9b0e91",
   "metadata": {},
   "outputs": [],
   "source": [
    "empresas_reembolsos.rename(columns={\"VALOR_REEMBOLSADO\":\"valor_recebido\"}, inplace=True)\n",
    "empresas_reembolsos.drop(columns=\"CNPJ_CPF_NUM\", inplace=True)\n",
    "\n",
    "empresas_reembolsos[\"valor_recebido\"] = empresas_reembolsos[\"valor_recebido\"].astype(\"float\")\n",
    "empresas_reembolsos[\"cnpj\"] = empresas_reembolsos[\"cnpj\"].astype(\"str\")\n",
    "\n",
    "empresas_reembolsos[\"data_inicio_atividade\"] = pd.to_datetime(empresas_reembolsos[\"data_inicio_atividade\"], format=\"%Y-%m-%d\", errors=\"coerce\")"
   ]
  },
  {
   "cell_type": "code",
   "execution_count": null,
   "id": "52688a0b",
   "metadata": {},
   "outputs": [],
   "source": [
    "empresas_reembolsos.sort_values(by=\"valor_recebido\", ascending=False)[:5]"
   ]
  },
  {
   "cell_type": "code",
   "execution_count": null,
   "id": "6c65ac26",
   "metadata": {},
   "outputs": [],
   "source": [
    "empresas_reembolsos.groupby(by=\"porte\").sum()"
   ]
  },
  {
   "cell_type": "code",
   "execution_count": null,
   "id": "4c98f393",
   "metadata": {},
   "outputs": [],
   "source": [
    "empresas_reembolsos.groupby(by=\"uf\").sum().sort_values(by=\"valor_recebido\", ascending=False)"
   ]
  },
  {
   "cell_type": "code",
   "execution_count": null,
   "id": "8703a402",
   "metadata": {},
   "outputs": [],
   "source": [
    "reembolsos_cnae = empresas_reembolsos.groupby(\"cnae_fiscal_descricao\").sum()"
   ]
  },
  {
   "cell_type": "code",
   "execution_count": null,
   "id": "200af50b",
   "metadata": {},
   "outputs": [],
   "source": [
    "reembolsos_cnae[\"percentual\"] = reembolsos_cnae[\"valor_recebido\"]/empresas_reembolsos[\"valor_recebido\"].sum()*100\n",
    "\n",
    "reembolsos_cnae.sort_values(by=\"percentual\", ascending=False, inplace=True)\n",
    "\n",
    "reembolsos_cnae[\"acumulado\"] = reembolsos_cnae[\"percentual\"].cumsum()"
   ]
  },
  {
   "cell_type": "code",
   "execution_count": null,
   "id": "8145c857",
   "metadata": {},
   "outputs": [],
   "source": [
    "#reembolsos_cnae.head(10)"
   ]
  },
  {
   "cell_type": "code",
   "execution_count": null,
   "id": "5287c8f8",
   "metadata": {},
   "outputs": [],
   "source": [
    "ceaps.groupby([\"PARTIDO\"]).sum().sort_values(by=\"VALOR_REEMBOLSADO\",ascending=False)"
   ]
  },
  {
   "cell_type": "code",
   "execution_count": null,
   "id": "30b3c4af",
   "metadata": {},
   "outputs": [],
   "source": [
    "totais_por_partido = ceaps.groupby([\"PARTIDO\"]).sum()\n",
    "senadores_por_partido = senadores[\"PARTIDO\"].value_counts()"
   ]
  },
  {
   "cell_type": "code",
   "execution_count": null,
   "id": "8b72f6db",
   "metadata": {},
   "outputs": [],
   "source": [
    "totais_partido_senadores = totais_por_partido.merge(senadores_por_partido, left_index=True, right_index=True)\n",
    "totais_partido_senadores.rename(columns={\"PARTIDO\":\"SENADORES\"}, inplace=True)\n",
    "\n",
    "totais_partido_senadores = totais_partido_senadores.assign(NUM_REEMBOLSOS=ceaps[\"PARTIDO\"].value_counts())\n",
    "\n",
    "totais_partido_senadores[\"MEDIA_POR_PARTIDO\"] = totais_partido_senadores[\"VALOR_REEMBOLSADO\"]/totais_partido_senadores[\"SENADORES\"]\n",
    "totais_partido_senadores[\"MEDIA_POR_PARTIDO\"] = totais_partido_senadores[\"MEDIA_POR_PARTIDO\"].round(2)\n",
    "\n",
    "totais_partido_senadores[\"MEDIA_REEMBOLSO\"] = totais_partido_senadores[\"VALOR_REEMBOLSADO\"]/totais_partido_senadores[\"NUM_REEMBOLSOS\"]\n",
    "totais_partido_senadores[\"MEDIA_REEMBOLSO\"] = totais_partido_senadores[\"MEDIA_REEMBOLSO\"].round(2)\n",
    "\n",
    "totais_partido_senadores.reset_index(inplace=True)\n",
    "totais_partido_senadores.rename(columns={\"index\":\"PARTIDO\"}, inplace=True)"
   ]
  },
  {
   "cell_type": "code",
   "execution_count": null,
   "id": "6630f2cb",
   "metadata": {},
   "outputs": [],
   "source": [
    "#totais_partido_senadores"
   ]
  },
  {
   "cell_type": "code",
   "execution_count": null,
   "id": "4000b553",
   "metadata": {},
   "outputs": [],
   "source": [
    "ceaps.groupby([\"PARTIDO\", \"SENADOR\"]).sum()"
   ]
  },
  {
   "cell_type": "code",
   "execution_count": null,
   "id": "64677cae",
   "metadata": {},
   "outputs": [],
   "source": [
    "ceaps.groupby([\"UF\", \"SENADOR\"]).sum()\n"
   ]
  },
  {
   "cell_type": "code",
   "execution_count": null,
   "id": "a01dc515",
   "metadata": {},
   "outputs": [],
   "source": [
    "#ceaps[\"UF\"].unique()"
   ]
  },
  {
   "cell_type": "markdown",
   "id": "3b77f272",
   "metadata": {},
   "source": [
    "### Atribuindo estados às regiões\n",
    "\n",
    "Um aspecto importante é a categorização por região brasileira. Ao mesmo tempo em que os senadores de estados mais distantes de Brasília têm direito a valores maiores da CEAPS, em muitos desses estados existe uma carência de serviços públicos, além de muitos, particularmente no Norte e Nordeste do país terem indicadores de desenvolvimento humano abaixo do ideal. Dessa forma, essa é uma métrica importante de ser considerada na avaliação do destino do dinheiro do contribuinte. Muito embora os senadores representem suas unidades federativas, em última instância detém um mandato popular e é à população a quem devem responder. Assim, é necessário avaliar, junto com outros dados, o retorno em termos concretos do gasto realizado pelos parlamentares. Em outras palavras, quanto desse dinheiro que é usado livremente por senadores se reverte em benefícios concretos para a população.\n",
    "\n",
    "Aqui foi utilizado um dicionário com as siglas das unidades federativas como chave e a região como valor. Em seguida, convertido em série e *DataFrame* e incorporado à tabela principal."
   ]
  },
  {
   "cell_type": "code",
   "execution_count": null,
   "id": "11eee14a",
   "metadata": {},
   "outputs": [],
   "source": [
    "regioes = {\n",
    "    'AC': 'Norte', 'AL': 'Nordeste', 'AM': 'Norte', \n",
    "    'AP': 'Norte', 'BA': 'Nordeste', 'CE': 'Nordeste', \n",
    "    'DF': 'Centro-Oeste', 'ES': 'Sudeste', 'GO': 'Centro-Oeste', \n",
    "    'MA': 'Nordeste', 'MG': 'Sudeste', 'MS': 'Centro-Oeste', \n",
    "    'MT': 'Centro-Oeste', 'PA': 'Norte', 'PB': 'Nordeste', \n",
    "    'PE': 'Nordeste', 'PI': 'Nordeste', 'PR': 'Sul', \n",
    "    'RJ': 'Sudeste', 'RN': 'Nordeste', 'RO': 'Norte', \n",
    "    'RR': 'Norte', 'RS': 'Sul', 'SC': 'Sul', \n",
    "    'SE': 'Nordeste', 'SP': 'Sudeste', 'TO': 'Norte'\n",
    "}\n",
    "regioes_Ser = pd.Series(regioes)"
   ]
  },
  {
   "cell_type": "code",
   "execution_count": null,
   "id": "28850538",
   "metadata": {},
   "outputs": [],
   "source": [
    "ceaps = ceaps.merge(regioes_Ser.to_frame(), right_index=True, left_on=\"UF\", how=\"left\")\n",
    "ceaps.rename(columns={0:\"REGIAO\"}, inplace=True)"
   ]
  },
  {
   "cell_type": "code",
   "execution_count": null,
   "id": "dd91f277",
   "metadata": {},
   "outputs": [],
   "source": [
    "empresas[\"cnpj\"] = empresas[\"cnpj\"].astype(\"int64\")\n",
    "ceaps[\"CNPJ_CPF_NUM\"] = ceaps[\"CNPJ_CPF_NUM\"].astype(\"int64\")\n",
    "\n",
    "ceaps = ceaps.merge(empresas, left_on=\"CNPJ_CPF_NUM\", right_on=\"cnpj\", how=\"left\")"
   ]
  },
  {
   "cell_type": "code",
   "execution_count": null,
   "id": "7237b286",
   "metadata": {},
   "outputs": [],
   "source": [
    "#ceaps.head()"
   ]
  },
  {
   "cell_type": "code",
   "execution_count": null,
   "id": "d4fe66ab",
   "metadata": {},
   "outputs": [],
   "source": [
    "#ceaps.info()"
   ]
  },
  {
   "cell_type": "code",
   "execution_count": null,
   "id": "9970a7c7",
   "metadata": {},
   "outputs": [],
   "source": [
    "ceaps[\"cnpj\"] = ceaps[\"cnpj\"].astype(\"str\")\n",
    "ceaps[\"CNPJ_CPF_NUM\"] = ceaps[\"CNPJ_CPF_NUM\"].astype(\"str\")"
   ]
  },
  {
   "cell_type": "code",
   "execution_count": null,
   "id": "8adc83e5",
   "metadata": {},
   "outputs": [],
   "source": [
    "ceaps.head()"
   ]
  },
  {
   "cell_type": "code",
   "execution_count": null,
   "id": "df4b3a92",
   "metadata": {},
   "outputs": [],
   "source": [
    "ceaps[\"razao_social\"].fillna(ceaps[\"FORNECEDOR\"], inplace=True)\n",
    "ceaps[\"porte\"].fillna(\"Pessoa física\", inplace=True)\n",
    "ceaps[\"cnae_fiscal_descricao\"].fillna(\"Pessoa física\", inplace=True)"
   ]
  },
  {
   "cell_type": "code",
   "execution_count": null,
   "id": "8033d6e2",
   "metadata": {},
   "outputs": [],
   "source": [
    "#ceaps.head()"
   ]
  },
  {
   "cell_type": "markdown",
   "id": "0b8cec88",
   "metadata": {},
   "source": [
    "### Simplicando o tipo de despesa\n",
    "\n",
    "Os nomes dos diferentes tipos de despesas da CEAPS são muito longos. Para fins de análise convém que sejam reduzidos para termos mais sucintos, mais ainda significativos. Para isso, foi utilizado um dicionário com os nomes originais e suas reduções e criada uma nova coluna `CAT_DESP`."
   ]
  },
  {
   "cell_type": "code",
   "execution_count": null,
   "id": "b1093aef",
   "metadata": {},
   "outputs": [],
   "source": [
    "dict_desp = {\n",
    "        'Aluguel de imóveis para escritório político, compreendendo despesas concernentes a eles.':\"Locação/manutenção de escritório político\",\n",
    "        'Aquisição de material de consumo para uso no escritório político, inclusive aquisição ou locação de software, despesas postais, aquisição de publicações, locação de móveis e de equipamentos. ':\"Despesas de escritório político\",\n",
    "        'Contratação de consultorias, assessorias, pesquisas, trabalhos técnicos e outros serviços de apoio ao exercício do mandato parlamentar': \"Serviços de apoio\",\n",
    "        'Divulgação da atividade parlamentar':\"Divulgação\",\n",
    "        'Locomoção, hospedagem, alimentação, combustíveis e lubrificantes': \"Locomoção, hospedagem e alimentação\",\n",
    "        'Serviços de Segurança Privada': \"Segurança privada\",\n",
    "        'Passagens aéreas, aquáticas e terrestres nacionais': \"Passagens\"   \n",
    "}\n",
    "\n",
    "desp_Ser = pd.Series(dict_desp)"
   ]
  },
  {
   "cell_type": "code",
   "execution_count": null,
   "id": "90439682",
   "metadata": {},
   "outputs": [],
   "source": [
    "uf_sen_cat = ceaps.groupby([\"REGIAO\", \"UF\", \"SENADOR\", \"MES\",  \"TIPO_DESPESA\", \"razao_social\", \"cnae_fiscal_descricao\"]).sum()\n",
    "uf_sen_cat.reset_index(inplace=True)\n",
    "\n",
    "uf_sen_cat = uf_sen_cat.merge(desp_Ser.to_frame(), left_on=\"TIPO_DESPESA\", right_index=True, how=\"left\")\n",
    "uf_sen_cat.rename(columns={0:\"CAT_DESP\"}, inplace=True)\n",
    "\n",
    "uf_sen_cat.columns = [x.upper() for x in uf_sen_cat.columns]\n",
    "\n",
    "uf_sen_cat"
   ]
  },
  {
   "cell_type": "code",
   "execution_count": null,
   "id": "4b18a84f",
   "metadata": {},
   "outputs": [],
   "source": [
    "dd = dict(ceaps[\"TIPO_DESPESA\"].value_counts(ascending=False))\n",
    "cat_despesas = [\"Locação/manutenção de escritório político\", \"Divulgação parlamentar\", \"Passagens\", \n",
    "                \"Locomoção, alimentação e hospedagem\", \"Consultorias e assessorias\", \n",
    "                \"Material de consumo esc. político\", \"Segurança privada\"]"
   ]
  },
  {
   "cell_type": "code",
   "execution_count": null,
   "id": "359f3dc4",
   "metadata": {},
   "outputs": [],
   "source": [
    "ax = sns.countplot(data=ceaps, x=\"TIPO_DESPESA\", order=dd)\n",
    "\n",
    "ax.set(title=\"Reembolsos por categoria da CEAPS em 2021\", xlabel=\"Categoria\", ylabel=\"Ocorrências\", xticklabels=\"\")\n",
    "ax.legend(ax.containers[0], cat_despesas, bbox_to_anchor=(1,1), title=\"Categorias\")\n",
    "ax.bar_label(ax.containers[0], padding=3)\n",
    "ax.set_ylim(0, 6500)\n",
    "\n",
    "# For future reference\n",
    "# ax.containers[0] returns the objects being plotted in the graph,\n",
    "# which, in this case, are the bar of the categories.\n",
    "# As such, it can be passed as handler (that seems to be a reference)\n",
    "# for other objects/functions, the legend in this case"
   ]
  },
  {
   "cell_type": "code",
   "execution_count": null,
   "id": "25ea4697",
   "metadata": {},
   "outputs": [],
   "source": [
    "pos = [\"top center\" if x not in [\"REDE\", \"CIDADANIA\"] else \"bottom center\" for x in totais_partido_senadores[\"PARTIDO\"]]\n",
    "fig = px.scatter(data_frame=totais_partido_senadores, x=\"MEDIA_POR_PARTIDO\", y=\"SENADORES\", \n",
    "                 text=\"PARTIDO\", title=\"Gasto médio por partido pelo número de senadores\")\n",
    "\n",
    "\n",
    "hovertemp = [\"<b>Partido</b>: %{text}<br>\",\n",
    "             \"<b>Senadores</b>: %{y}<br>\",\n",
    "             \"<b>Gasto médio por senador</b>: R$ %{x:,}<br>\"]\n",
    "hovertemp = \"\".join(hovertemp)\n",
    "\n",
    "fig.update_traces(textposition=pos, hovertemplate=hovertemp)\n",
    "fig.update_layout(separators=\",.\", xaxis_title=\"Média de reembolso por senador\", yaxis_title=\"Senadores por partido\")"
   ]
  },
  {
   "cell_type": "code",
   "execution_count": null,
   "id": "eed36317",
   "metadata": {},
   "outputs": [],
   "source": [
    "ano_inicio_grouped = empresas_reembolsos.groupby(empresas_reembolsos[\"data_inicio_atividade\"].dt.year).sum().sort_values(by=\"valor_recebido\", ascending=False)\n",
    "ano_inicio_grouped.reset_index(inplace=True)\n",
    "\n",
    "px.histogram(data_frame=ano_inicio_grouped, x=\"data_inicio_atividade\", y=\"valor_recebido\")"
   ]
  },
  {
   "cell_type": "code",
   "execution_count": null,
   "id": "fa12ce16",
   "metadata": {
    "scrolled": false
   },
   "outputs": [],
   "source": [
    "porte_grouped = empresas_reembolsos.groupby(empresas_reembolsos[\"porte\"]).sum().sort_values(by=\"valor_recebido\", ascending=False)\n",
    "porte_grouped.reset_index(inplace=True)\n",
    "\n",
    "\n",
    "px.bar(data_frame=porte_grouped, x=\"porte\", y=\"valor_recebido\")"
   ]
  },
  {
   "cell_type": "code",
   "execution_count": null,
   "id": "9fbc0876",
   "metadata": {},
   "outputs": [],
   "source": [
    "nordeste = uf_sen_cat[uf_sen_cat[\"REGIAO\"]==\"Nordeste\"]\n",
    "norte = uf_sen_cat[uf_sen_cat[\"REGIAO\"]==\"Norte\"]\n",
    "sudeste = uf_sen_cat[uf_sen_cat[\"REGIAO\"]==\"Sudeste\"]\n",
    "sul = uf_sen_cat[uf_sen_cat[\"REGIAO\"]==\"Sul\"]\n",
    "centro_oeste = uf_sen_cat[uf_sen_cat[\"REGIAO\"]==\"Centro-Oeste\"]"
   ]
  },
  {
   "cell_type": "code",
   "execution_count": null,
   "id": "5d5e3049",
   "metadata": {},
   "outputs": [],
   "source": [
    "def customwrap(s,width=60):\n",
    "    return \"<br>\".join(textwrap.wrap(s,width=width))"
   ]
  },
  {
   "cell_type": "code",
   "execution_count": null,
   "id": "b096cd06",
   "metadata": {},
   "outputs": [],
   "source": [
    "path=[\"REGIAO\", \"UF\", \"SENADOR\", \"MES\", \"CAT_DESP\", \"RAZAO_SOCIAL\", \n",
    "      nordeste[\"CNAE_FISCAL_DESCRICAO\"].apply(customwrap)]\n",
    "\n",
    "fig_temp = px.treemap(data_frame=nordeste, path=path, values=\"VALOR_REEMBOLSADO\", template=\"presentation\", \n",
    "                      color_discrete_sequence=px.colors.qualitative.D3)\n",
    "\n",
    "hovertemp = [\"<b>Valor</b>: R$ %{value:,}<br>\"]\n",
    "hovertemp = \"\".join(hovertemp)\n",
    "\n",
    "fig_temp.update_traces(textposition=\"middle center\", hovertemplate=hovertemp, \n",
    "                       textinfo = \"label\", texttemplate=\"<b>CNAE</b>: %{label}<br> <b>Valor pago no mês</b>: R$ %{value}\")\n",
    "fig_temp.update_layout(separators=\",.\")"
   ]
  },
  {
   "cell_type": "code",
   "execution_count": null,
   "id": "fa284d7a",
   "metadata": {},
   "outputs": [],
   "source": [
    "totais_partido = ceaps.groupby([\"PARTIDO\"]).sum()\n",
    "totais_partido.reset_index(inplace=True)"
   ]
  },
  {
   "cell_type": "code",
   "execution_count": null,
   "id": "b775a005",
   "metadata": {},
   "outputs": [],
   "source": [
    "fig_partidos = px.bar(totais_partido[[\"PARTIDO\",\"VALOR_REEMBOLSADO\"]], x=\"PARTIDO\", \n",
    "                      y=\"VALOR_REEMBOLSADO\", color=\"VALOR_REEMBOLSADO\",  color_continuous_scale=px.colors.sequential.YlOrRd,\n",
    "                     title=\"Gastos da CEAPS por partido do senador\")\n",
    "\n",
    "hovertemp = [\"<b>Partido</b>: %{x}<br>\",\"<b>Gasto total do partido</b>: R$ %{y:,}\"]\n",
    "hovertemp = \"\".join(hovertemp)    \n",
    "\n",
    "fig_partidos.update_traces(hovertemplate=hovertemp)\n",
    "fig_partidos.update_layout(separators=\",.\", yaxis_title=\"Gasto total\", xaxis_title=\"Partidos\", \n",
    "                           xaxis={\"categoryorder\": 'total descending'})"
   ]
  },
  {
   "cell_type": "code",
   "execution_count": null,
   "id": "ebcca40b",
   "metadata": {},
   "outputs": [],
   "source": [
    "#Boxplot partido\n",
    "#Senadores que mais e menos gastaram"
   ]
  },
  {
   "cell_type": "code",
   "execution_count": null,
   "id": "af4e1224",
   "metadata": {},
   "outputs": [],
   "source": [
    "sen_part_tot = ceaps.groupby([\"PARTIDO\",\"SENADOR\"]).sum()\n",
    "sen_part_tot.reset_index(inplace=True)\n",
    "\n",
    "fig6 = px.treemap(data_frame=sen_part_tot,\n",
    "            path=[\"PARTIDO\",\"SENADOR\"], values=\"VALOR_REEMBOLSADO\")\n",
    "\n",
    "fig6.update_traces(hovertemplate=\"<b>Valor gasto</b>: R$ %{value:,}\", textposition=\"middle center\", textinfo = \"label\",\n",
    "                   texttemplate=\"<b>Senador</b>: %{label}<br><b>Valor gasto no ano</b>: R$ %{value}\")\n",
    "\n",
    "fig6.update_layout(separators=\",.\")"
   ]
  },
  {
   "cell_type": "code",
   "execution_count": null,
   "id": "bf01f8d5",
   "metadata": {},
   "outputs": [],
   "source": [
    "estados = ceaps.groupby([\"UF\"]).sum()\n",
    "estados.reset_index(inplace=True)"
   ]
  },
  {
   "cell_type": "code",
   "execution_count": null,
   "id": "eabf4097",
   "metadata": {},
   "outputs": [],
   "source": [
    "#estados.to_csv(\"estados_total.csv\", decimal=\",\")"
   ]
  },
  {
   "cell_type": "code",
   "execution_count": null,
   "id": "641dba1d",
   "metadata": {},
   "outputs": [],
   "source": [
    "from urllib.request import urlopen\n",
    "with urlopen(\"https://raw.githubusercontent.com/codeforamerica/click_that_hood/master/public/data/brazil-states.geojson\") as response:\n",
    "    estados_geo = json.load(response)"
   ]
  },
  {
   "cell_type": "code",
   "execution_count": null,
   "id": "693987e8",
   "metadata": {
    "scrolled": false
   },
   "outputs": [],
   "source": [
    "estados_geo = json.load(open(\"./brasil_estados.json\"))\n",
    "\n",
    "mapa = px.choropleth(estados, geojson=estados_geo, locations=\"UF\", width=1000, height=1000,\n",
    "                     color=\"VALOR_REEMBOLSADO\", projection=\"mercator\", color_continuous_scale=px.colors.sequential.YlOrRd)\n",
    "\n",
    "hovertemp = [\"<b>UF</b>: %{location}\", \"<b>Gasto total</b>: R$ %{z:,}\"]\n",
    "hovertemp = \"<br>\".join(hovertemp)    \n",
    "\n",
    "mapa.update_traces(hovertemplate=hovertemp)\n",
    "\n",
    "mapa.update_geos(fitbounds=\"geojson\", visible=False)\n",
    "\n",
    "mapa.update_coloraxes(colorbar_len=0.4, colorbar_title_text=\"Valor gasto<br>pelos senadores\", colorbar_thickness=15)\n",
    "\n",
    "mapa.update_layout(separators=\",.\", margin={\"r\":0,\"t\":0,\"l\":0,\"b\":0}, hoverlabel=dict(font_size=18))    "
   ]
  },
  {
   "cell_type": "code",
   "execution_count": null,
   "id": "73959764",
   "metadata": {},
   "outputs": [],
   "source": [
    "mapa.write_html(\"file.html\")"
   ]
  },
  {
   "cell_type": "code",
   "execution_count": null,
   "id": "ac948787",
   "metadata": {},
   "outputs": [],
   "source": [
    "import folium"
   ]
  },
  {
   "cell_type": "code",
   "execution_count": null,
   "id": "924165a0",
   "metadata": {},
   "outputs": [],
   "source": [
    "m = folium.Map(location=[-10, -55], zoom_start=4)"
   ]
  },
  {
   "cell_type": "code",
   "execution_count": null,
   "id": "aaf385a1",
   "metadata": {},
   "outputs": [],
   "source": [
    "folium.Choropleth(\n",
    "    geo_data=estados_geo,\n",
    "    name='choropleth',\n",
    "    data=estados,\n",
    "    columns=['UF', 'VALOR_REEMBOLSADO'],\n",
    "    key_on='feature.id',\n",
    "    fill_color='YlOrRd',\n",
    "    fill_opacity=1,\n",
    "    line_opacity=0.2,\n",
    "    legend_name='Valor gasto (R$)',\n",
    "    popup='<b>Stackoverflow</b><br><br>2021.01.01'\n",
    ").add_to(m)"
   ]
  },
  {
   "cell_type": "code",
   "execution_count": null,
   "id": "f2a2c010",
   "metadata": {},
   "outputs": [],
   "source": [
    "m"
   ]
  },
  {
   "cell_type": "code",
   "execution_count": null,
   "id": "efea5671",
   "metadata": {},
   "outputs": [],
   "source": []
  }
 ],
 "metadata": {
  "kernelspec": {
   "display_name": "Python 3 (ipykernel)",
   "language": "python",
   "name": "python3"
  },
  "language_info": {
   "codemirror_mode": {
    "name": "ipython",
    "version": 3
   },
   "file_extension": ".py",
   "mimetype": "text/x-python",
   "name": "python",
   "nbconvert_exporter": "python",
   "pygments_lexer": "ipython3",
   "version": "3.9.7"
  }
 },
 "nbformat": 4,
 "nbformat_minor": 5
}
